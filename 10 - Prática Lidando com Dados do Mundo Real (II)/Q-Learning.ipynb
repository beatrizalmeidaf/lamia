{
 "cells": [
  {
   "cell_type": "markdown",
   "id": "d170d5ce-6c05-4544-80b8-f4b85e43d347",
   "metadata": {},
   "source": [
    "# Reinforcement Learning"
   ]
  },
  {
   "cell_type": "code",
   "execution_count": 4,
   "id": "4739a8d4-a7d7-46dd-a03a-033164d35483",
   "metadata": {},
   "outputs": [
    {
     "name": "stdout",
     "output_type": "stream",
     "text": [
      "\n",
      "+---------+\n",
      "|\u001b[35mR\u001b[0m: | : :G|\n",
      "| : | : : |\n",
      "| : : : : |\n",
      "| | : | : |\n",
      "|Y| : |\u001b[34;1m\u001b[43mB\u001b[0m\u001b[0m: |\n",
      "+---------+\n",
      "\n",
      "\n"
     ]
    }
   ],
   "source": [
    "#!pip install gym\n",
    "import gym  \n",
    "import random  \n",
    "\n",
    "random.seed(1234) \n",
    "\n",
    "streets = gym.make(\"Taxi-v3\", render_mode = \"ansi\").env  # cria o ambiente Taxi-v3, que simula um problema de táxi e ansi define o modo de renderização textual\n",
    "streets.reset()  # reseta o ambiente\n",
    "print(\"\\n\"+streets.render())  # exibe em formato textual"
   ]
  },
  {
   "cell_type": "code",
   "execution_count": 5,
   "id": "be94fe22-7c79-41dc-813a-78a7398a8dc8",
   "metadata": {},
   "outputs": [
    {
     "data": {
      "text/plain": [
       "'+---------+\\n|\\x1b[35mR\\x1b[0m: | : :G|\\n| : | : : |\\n| : : : : |\\n| | : | : |\\n|Y| : |\\x1b[34;1m\\x1b[43mB\\x1b[0m\\x1b[0m: |\\n+---------+\\n\\n'"
      ]
     },
     "execution_count": 5,
     "metadata": {},
     "output_type": "execute_result"
    }
   ],
   "source": [
    "initial_state = streets.encode(2, 3, 2, 0)  # codifica um estado inicial específico, onde:\n",
    "# 2 é a linha do táxi, 3 é a coluna do táxi, 2 é a localização do passageiro, e 0 é o destino.\n",
    "\n",
    "streets.s = initial_state  # iguala o estado inicial ao estado codificado.\n",
    "\n",
    "streets.render()  # ambiente para visualizar o estado inicial configurado."
   ]
  },
  {
   "cell_type": "code",
   "execution_count": 6,
   "id": "e0322a9b-6327-4e9b-9e05-94de8a75243a",
   "metadata": {},
   "outputs": [
    {
     "data": {
      "text/plain": [
       "{0: [(1.0, 368, -1, False)],\n",
       " 1: [(1.0, 168, -1, False)],\n",
       " 2: [(1.0, 288, -1, False)],\n",
       " 3: [(1.0, 248, -1, False)],\n",
       " 4: [(1.0, 268, -10, False)],\n",
       " 5: [(1.0, 268, -10, False)]}"
      ]
     },
     "execution_count": 6,
     "metadata": {},
     "output_type": "execute_result"
    }
   ],
   "source": [
    "streets.P[initial_state]"
   ]
  },
  {
   "cell_type": "code",
   "execution_count": 11,
   "id": "094bcbfb-53a2-487f-a3e5-6bb24595ac6a",
   "metadata": {},
   "outputs": [],
   "source": [
    "for taxi_run in range(epochs):\n",
    "    state = streets.reset()\n",
    "    done = False\n",
    "\n",
    "    while not done:\n",
    "        if isinstance(state, tuple):\n",
    "            state_index, info = state\n",
    "            action_mask = info.get('action_mask', np.ones(streets.action_space.n, dtype=int))\n",
    "        else:\n",
    "            state_index = state\n",
    "            action_mask = np.ones(streets.action_space.n, dtype=int)\n",
    "\n",
    "        random_value = random.uniform(0, 1)\n",
    "        if random_value < exploration:\n",
    "            valid_actions = np.where(action_mask == 1)[0]\n",
    "            action = np.random.choice(valid_actions)\n",
    "        else:\n",
    "            q_values = q_table[state_index]\n",
    "            valid_q_values = q_values * action_mask\n",
    "            action = np.argmax(valid_q_values)\n",
    "\n",
    "        result = streets.step(action)\n",
    "        if len(result) == 4:\n",
    "            next_state, reward, done, info = result\n",
    "        elif len(result) == 5:\n",
    "            next_state, reward, done, truncated, info = result\n",
    "            done = done or truncated  \n",
    "        else:\n",
    "            raise ValueError(f\"streets.step(action) retornou um número inesperado de valores: {len(result)}\")\n",
    "\n",
    "        if isinstance(next_state, tuple):\n",
    "            next_state = next_state[0]\n",
    "\n",
    "        prev_q = q_table[state_index, action]\n",
    "        next_max_q = np.max(q_table[next_state])\n",
    "        new_q = (1 - learning_rate) * prev_q + learning_rate * (reward + discount_factor * next_max_q)\n",
    "        q_table[state_index, action] = new_q\n",
    "\n",
    "        state = next_state\n"
   ]
  },
  {
   "cell_type": "code",
   "execution_count": 12,
   "id": "b9760312-0fd0-4788-a9d3-adf1ce0a9d7a",
   "metadata": {},
   "outputs": [
    {
     "data": {
      "text/plain": [
       "array([ -2.42159969,  -2.41412014,  -2.40174171,  -2.3639511 ,\n",
       "       -11.37731913,  -6.36445316])"
      ]
     },
     "execution_count": 12,
     "metadata": {},
     "output_type": "execute_result"
    }
   ],
   "source": [
    "q_table[initial_state] "
   ]
  },
  {
   "cell_type": "code",
   "execution_count": 16,
   "id": "7063bae6-7259-40ba-a2d5-4b817162dd05",
   "metadata": {},
   "outputs": [
    {
     "ename": "IndexError",
     "evalue": "only integers, slices (`:`), ellipsis (`...`), numpy.newaxis (`None`) and integer or boolean arrays are valid indices",
     "output_type": "error",
     "traceback": [
      "\u001b[1;31m---------------------------------------------------------------------------\u001b[0m",
      "\u001b[1;31mIndexError\u001b[0m                                Traceback (most recent call last)",
      "Cell \u001b[1;32mIn[16], line 13\u001b[0m\n\u001b[0;32m     10\u001b[0m trip_length \u001b[38;5;241m=\u001b[39m \u001b[38;5;241m0\u001b[39m\n\u001b[0;32m     12\u001b[0m \u001b[38;5;28;01mwhile\u001b[39;00m \u001b[38;5;129;01mnot\u001b[39;00m done \u001b[38;5;129;01mand\u001b[39;00m trip_length \u001b[38;5;241m<\u001b[39m \u001b[38;5;241m25\u001b[39m:\n\u001b[1;32m---> 13\u001b[0m     action \u001b[38;5;241m=\u001b[39m np\u001b[38;5;241m.\u001b[39margmax(q_table[state])\n\u001b[0;32m     14\u001b[0m     next_state, reward, done, info \u001b[38;5;241m=\u001b[39m streets\u001b[38;5;241m.\u001b[39mstep(action)\n\u001b[0;32m     15\u001b[0m     clear_output(wait\u001b[38;5;241m=\u001b[39m\u001b[38;5;28;01mTrue\u001b[39;00m)\n",
      "\u001b[1;31mIndexError\u001b[0m: only integers, slices (`:`), ellipsis (`...`), numpy.newaxis (`None`) and integer or boolean arrays are valid indices"
     ]
    }
   ],
   "source": [
    "#faz a simulacao das viagens\n",
    "\n",
    "from IPython.display import clear_output\n",
    "from time import sleep\n",
    "\n",
    "for tripnum in range(1, 11):\n",
    "    state = streets.reset()\n",
    "   \n",
    "    done = False\n",
    "    trip_length = 0\n",
    "    \n",
    "    while not done and trip_length < 25:\n",
    "        action = np.argmax(q_table[state])\n",
    "        next_state, reward, done, info = streets.step(action)\n",
    "        clear_output(wait=True)\n",
    "        print(\"Trip number \" + str(tripnum) + \" Step \" + str(trip_length))\n",
    "        print(streets.render(mode='ansi'))\n",
    "        sleep(.5)\n",
    "        state = next_state\n",
    "        trip_length += 1\n",
    "        \n",
    "    sleep(2)\n",
    "    "
   ]
  }
 ],
 "metadata": {
  "kernelspec": {
   "display_name": "Python 3 (ipykernel)",
   "language": "python",
   "name": "python3"
  },
  "language_info": {
   "codemirror_mode": {
    "name": "ipython",
    "version": 3
   },
   "file_extension": ".py",
   "mimetype": "text/x-python",
   "name": "python",
   "nbconvert_exporter": "python",
   "pygments_lexer": "ipython3",
   "version": "3.12.4"
  }
 },
 "nbformat": 4,
 "nbformat_minor": 5
}
