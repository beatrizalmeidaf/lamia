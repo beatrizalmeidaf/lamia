{
 "cells": [
  {
   "cell_type": "markdown",
   "id": "ebe84cbc-652b-4453-b285-64e6f8a390e6",
   "metadata": {},
   "source": [
    "# K-Fold Cross Validation"
   ]
  },
  {
   "cell_type": "code",
   "execution_count": 2,
   "id": "1dcdf795-1d57-4148-81f6-c0793a636245",
   "metadata": {},
   "outputs": [],
   "source": [
    "import numpy as np  \n",
    "from sklearn.model_selection import cross_val_score, train_test_split \n",
    "from sklearn import datasets  \n",
    "from sklearn import svm  \n",
    "\n",
    "iris = datasets.load_iris()  "
   ]
  },
  {
   "cell_type": "code",
   "execution_count": 3,
   "id": "a9590182-4c2f-4071-8ae3-e50ac04ad1dd",
   "metadata": {},
   "outputs": [
    {
     "data": {
      "text/plain": [
       "0.9666666666666667"
      ]
     },
     "execution_count": 3,
     "metadata": {},
     "output_type": "execute_result"
    }
   ],
   "source": [
    "X_train, X_test, y_train, y_test = train_test_split(iris.data, iris.target, test_size=0.4, random_state=0)\n",
    "clf = svm.SVC(kernel='linear', C=1).fit(X_train, y_train)\n",
    "clf.score(X_test, y_test)   "
   ]
  },
  {
   "cell_type": "code",
   "execution_count": 4,
   "id": "5abae058-bd3c-40f0-84bb-1b8dccb1c730",
   "metadata": {},
   "outputs": [
    {
     "name": "stdout",
     "output_type": "stream",
     "text": [
      "[0.96666667 1.         0.96666667 0.96666667 1.        ]\n",
      "0.9800000000000001\n"
     ]
    }
   ],
   "source": [
    "scores = cross_val_score(clf, iris.data, iris.target, cv=5)\n",
    "print(scores)\n",
    "print(scores.mean())"
   ]
  },
  {
   "cell_type": "code",
   "execution_count": 5,
   "id": "c27bf9f0-df0e-48d8-b23c-cc1840b6cc08",
   "metadata": {},
   "outputs": [
    {
     "name": "stdout",
     "output_type": "stream",
     "text": [
      "[0.96666667 1.         0.96666667 0.96666667 1.        ]\n",
      "0.9800000000000001\n"
     ]
    }
   ],
   "source": [
    "clf = svm.SVC(kernel='poly', C=1)\n",
    "scores = cross_val_score(clf, iris.data, iris.target, cv=5)\n",
    "print(scores)\n",
    "print(scores.mean())\n"
   ]
  },
  {
   "cell_type": "code",
   "execution_count": 6,
   "id": "cf5c380a-ed47-43c8-afec-268492fe8fe3",
   "metadata": {},
   "outputs": [
    {
     "data": {
      "text/plain": [
       "0.9"
      ]
     },
     "execution_count": 6,
     "metadata": {},
     "output_type": "execute_result"
    }
   ],
   "source": [
    "clf = svm.SVC(kernel='poly', C=1).fit(X_train, y_train)\n",
    "clf.score(X_test, y_test)"
   ]
  },
  {
   "cell_type": "code",
   "execution_count": 7,
   "id": "e735216c-6e57-4e11-aead-02eb786080cd",
   "metadata": {},
   "outputs": [
    {
     "name": "stdout",
     "output_type": "stream",
     "text": [
      "Acurácia com kernel polinomial de grau 2: 0.95\n",
      "Acurácia com kernel linear: 0.9666666666666667\n"
     ]
    }
   ],
   "source": [
    "clf_poly_2 = svm.SVC(kernel='poly', degree=2, C=1).fit(X_train, y_train)\n",
    "accuracy_poly_2 = clf_poly_2.score(X_test, y_test)\n",
    "print(f\"Acurácia com kernel polinomial de grau 2: {accuracy_poly_2}\")\n",
    "\n",
    "# SVM com kernel linear\n",
    "clf_linear = svm.SVC(kernel='linear', C=1).fit(X_train, y_train)\n",
    "\n",
    "# acurácia com dados de teste usando o kernel linear\n",
    "accuracy_linear = clf_linear.score(X_test, y_test)\n",
    "print(f\"Acurácia com kernel linear: {accuracy_linear}\")\n"
   ]
  }
 ],
 "metadata": {
  "kernelspec": {
   "display_name": "Python 3 (ipykernel)",
   "language": "python",
   "name": "python3"
  },
  "language_info": {
   "codemirror_mode": {
    "name": "ipython",
    "version": 3
   },
   "file_extension": ".py",
   "mimetype": "text/x-python",
   "name": "python",
   "nbconvert_exporter": "python",
   "pygments_lexer": "ipython3",
   "version": "3.12.4"
  }
 },
 "nbformat": 4,
 "nbformat_minor": 5
}
